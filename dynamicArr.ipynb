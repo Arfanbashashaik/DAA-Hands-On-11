{
  "nbformat": 4,
  "nbformat_minor": 0,
  "metadata": {
    "colab": {
      "private_outputs": true,
      "provenance": [],
      "authorship_tag": "ABX9TyPSUGU6FcM2mxVMro/UAXLI",
      "include_colab_link": true
    },
    "kernelspec": {
      "name": "python3",
      "display_name": "Python 3"
    },
    "language_info": {
      "name": "python"
    }
  },
  "cells": [
    {
      "cell_type": "markdown",
      "metadata": {
        "id": "view-in-github",
        "colab_type": "text"
      },
      "source": [
        "<a href=\"https://colab.research.google.com/github/Arfanbashashaik/DAA-Hands-On-11/blob/main/dynamicArr.ipynb\" target=\"_parent\"><img src=\"https://colab.research.google.com/assets/colab-badge.svg\" alt=\"Open In Colab\"/></a>"
      ]
    },
    {
      "cell_type": "code",
      "execution_count": null,
      "metadata": {
        "id": "lGJ_u2lVjOub"
      },
      "outputs": [],
      "source": [
        "import ctypes\n",
        "class ResizableArray:\n",
        "    def __init__(self):\n",
        "        self._buffer_capacity=1\n",
        "        self._load_size =0\n",
        "        self._content=self._create_array(self._buffer_capacity)\n",
        "    def __len__(self):\n",
        "        return self._load_size\n",
        "    def __getitem__(self, idx):\n",
        "        if not 0 <=idx < self._load_size:\n",
        "            raise IndexError(\"Index out of range\")\n",
        "        return self._content[idx]\n",
        "    def __repr__(self):\n",
        "        return '['+','.join(str(self._content[i]) for i in range(self._load_size))+']'\n",
        "    def _create_array(self, capacity):\n",
        "        return (capacity * ctypes.py_object)()\n",
        "    def _expand_capacity(self,new_capacity):\n",
        "        expanded_array=self._create_array(new_capacity)\n",
        "        for i in range(self._load_size):\n",
        "            expanded_array[i]=self._content[i]\n",
        "        self._content=expanded_array\n",
        "        self._buffer_capacity=new_capacity\n",
        "    def add(self, item):\n",
        "        if self._load_size==self._buffer_capacity:\n",
        "            self._expand_capacity(2*self._buffer_capacity)\n",
        "        self._content[self._load_size]=item\n",
        "        self._load_size +=1\n",
        "# Example usage\n",
        "dyn_array =ResizableArray()\n",
        "dyn_array.add(11)\n",
        "dyn_array.add(16)\n",
        "dyn_array.add(26)\n",
        "dyn_array.add(49)\n",
        "dyn_array.add(19)\n",
        "dyn_array.add(79)\n",
        "dyn_array.add(26)\n",
        "dyn_array.add(29)\n",
        "print(\"Array size:\",len(dyn_array))\n",
        "print(\"Array contents:\",dyn_array)\n",
        "print(\"Element at index 3:\",dyn_array[3])"
      ]
    }
  ]
}